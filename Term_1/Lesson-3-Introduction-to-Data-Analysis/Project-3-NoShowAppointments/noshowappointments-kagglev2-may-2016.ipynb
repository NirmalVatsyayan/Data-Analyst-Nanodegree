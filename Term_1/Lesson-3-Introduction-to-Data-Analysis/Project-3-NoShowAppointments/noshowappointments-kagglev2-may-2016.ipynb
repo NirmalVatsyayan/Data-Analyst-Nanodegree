{
 "cells": [
  {
   "cell_type": "markdown",
   "metadata": {},
   "source": [
    "> **Tip**: Welcome to the Investigate a Dataset project! You will find tips in quoted sections like this to help organize your approach to your investigation. Before submitting your project, it will be a good idea to go back through your report and remove these sections to make the presentation of your work as tidy as possible. First things first, you might want to double-click this Markdown cell and change the title so that it reflects your dataset and investigation.\n",
    "\n",
    "# Project: Investigate a Dataset (Replace this with something more specific!)\n",
    "\n",
    "## Table of Contents\n",
    "<ul>\n",
    "<li><a href=\"#intro\">Introduction</a></li>\n",
    "<li><a href=\"#wrangling\">Data Wrangling</a></li>\n",
    "<li><a href=\"#eda\">Exploratory Data Analysis</a></li>\n",
    "<li><a href=\"#conclusions\">Conclusions</a></li>\n",
    "</ul>"
   ]
  },
  {
   "cell_type": "markdown",
   "metadata": {},
   "source": [
    "<a id='intro'></a>\n",
    "## Introduction\n",
    "\n",
    "\n",
    "I decided to analyze no show appointment data set. The analysis is done in context to find if there is any relation between patients presence with any condition."
   ]
  },
  {
   "cell_type": "code",
   "execution_count": 1,
   "metadata": {
    "collapsed": true
   },
   "outputs": [],
   "source": [
    "# Use this cell to set up import statements for all of the packages that you\n",
    "#   plan to use.\n",
    "\n",
    "# Remember to include a 'magic word' so that your visualizations are plotted\n",
    "#   inline with the notebook. See this page for more:\n",
    "#   http://ipython.readthedocs.io/en/stable/interactive/magics.html\n",
    "import pandas as pd\n",
    "import numpy as np\n",
    "import matplotlib.pyplot as plt\n",
    "% matplotlib inline\n",
    "from datetime import datetime"
   ]
  },
  {
   "cell_type": "markdown",
   "metadata": {},
   "source": [
    "<a id='wrangling'></a>\n",
    "## Data Wrangling\n",
    "\n",
    "\n",
    "Imported the data and made some general observation about data, if null is present, duplicates are present, data types etc\n",
    "\n",
    "### General Properties\n",
    "\n"
   ]
  },
  {
   "cell_type": "code",
   "execution_count": 2,
   "metadata": {},
   "outputs": [
    {
     "data": {
      "text/html": [
       "<div>\n",
       "<table border=\"1\" class=\"dataframe\">\n",
       "  <thead>\n",
       "    <tr style=\"text-align: right;\">\n",
       "      <th></th>\n",
       "      <th>PatientId</th>\n",
       "      <th>AppointmentID</th>\n",
       "      <th>Gender</th>\n",
       "      <th>ScheduledDay</th>\n",
       "      <th>AppointmentDay</th>\n",
       "      <th>Age</th>\n",
       "      <th>Neighbourhood</th>\n",
       "      <th>Scholarship</th>\n",
       "      <th>Hipertension</th>\n",
       "      <th>Diabetes</th>\n",
       "      <th>Alcoholism</th>\n",
       "      <th>Handcap</th>\n",
       "      <th>SMS_received</th>\n",
       "      <th>No-show</th>\n",
       "    </tr>\n",
       "  </thead>\n",
       "  <tbody>\n",
       "    <tr>\n",
       "      <th>0</th>\n",
       "      <td>2.987250e+13</td>\n",
       "      <td>5642903</td>\n",
       "      <td>F</td>\n",
       "      <td>2016-04-29T18:38:08Z</td>\n",
       "      <td>2016-04-29T00:00:00Z</td>\n",
       "      <td>62</td>\n",
       "      <td>JARDIM DA PENHA</td>\n",
       "      <td>0</td>\n",
       "      <td>1</td>\n",
       "      <td>0</td>\n",
       "      <td>0</td>\n",
       "      <td>0</td>\n",
       "      <td>0</td>\n",
       "      <td>No</td>\n",
       "    </tr>\n",
       "  </tbody>\n",
       "</table>\n",
       "</div>"
      ],
      "text/plain": [
       "      PatientId  AppointmentID Gender          ScheduledDay  \\\n",
       "0  2.987250e+13        5642903      F  2016-04-29T18:38:08Z   \n",
       "\n",
       "         AppointmentDay  Age    Neighbourhood  Scholarship  Hipertension  \\\n",
       "0  2016-04-29T00:00:00Z   62  JARDIM DA PENHA            0             1   \n",
       "\n",
       "   Diabetes  Alcoholism  Handcap  SMS_received No-show  \n",
       "0         0           0        0             0      No  "
      ]
     },
     "execution_count": 2,
     "metadata": {},
     "output_type": "execute_result"
    }
   ],
   "source": [
    "# Load your data and print out a few lines. Perform operations to inspect data\n",
    "#   types and look for instances of missing or possibly errant data.\n",
    "df = pd.read_csv('noshowappointments-kagglev2-may-2016.csv')\n",
    "df.head(1)"
   ]
  },
  {
   "cell_type": "code",
   "execution_count": 3,
   "metadata": {},
   "outputs": [
    {
     "name": "stdout",
     "output_type": "stream",
     "text": [
      "<class 'pandas.core.frame.DataFrame'>\n",
      "RangeIndex: 110527 entries, 0 to 110526\n",
      "Data columns (total 14 columns):\n",
      "PatientId         110527 non-null float64\n",
      "AppointmentID     110527 non-null int64\n",
      "Gender            110527 non-null object\n",
      "ScheduledDay      110527 non-null object\n",
      "AppointmentDay    110527 non-null object\n",
      "Age               110527 non-null int64\n",
      "Neighbourhood     110527 non-null object\n",
      "Scholarship       110527 non-null int64\n",
      "Hipertension      110527 non-null int64\n",
      "Diabetes          110527 non-null int64\n",
      "Alcoholism        110527 non-null int64\n",
      "Handcap           110527 non-null int64\n",
      "SMS_received      110527 non-null int64\n",
      "No-show           110527 non-null object\n",
      "dtypes: float64(1), int64(8), object(5)\n",
      "memory usage: 11.8+ MB\n"
     ]
    }
   ],
   "source": [
    "'''\n",
    "No null records found\n",
    "'''\n",
    "df.info() \n"
   ]
  },
  {
   "cell_type": "code",
   "execution_count": 4,
   "metadata": {},
   "outputs": [
    {
     "data": {
      "text/html": [
       "<div>\n",
       "<table border=\"1\" class=\"dataframe\">\n",
       "  <thead>\n",
       "    <tr style=\"text-align: right;\">\n",
       "      <th></th>\n",
       "      <th>PatientId</th>\n",
       "      <th>AppointmentID</th>\n",
       "      <th>Age</th>\n",
       "      <th>Scholarship</th>\n",
       "      <th>Hipertension</th>\n",
       "      <th>Diabetes</th>\n",
       "      <th>Alcoholism</th>\n",
       "      <th>Handcap</th>\n",
       "      <th>SMS_received</th>\n",
       "    </tr>\n",
       "  </thead>\n",
       "  <tbody>\n",
       "    <tr>\n",
       "      <th>count</th>\n",
       "      <td>1.105270e+05</td>\n",
       "      <td>1.105270e+05</td>\n",
       "      <td>110527.000000</td>\n",
       "      <td>110527.000000</td>\n",
       "      <td>110527.000000</td>\n",
       "      <td>110527.000000</td>\n",
       "      <td>110527.000000</td>\n",
       "      <td>110527.000000</td>\n",
       "      <td>110527.000000</td>\n",
       "    </tr>\n",
       "    <tr>\n",
       "      <th>mean</th>\n",
       "      <td>1.474963e+14</td>\n",
       "      <td>5.675305e+06</td>\n",
       "      <td>37.088874</td>\n",
       "      <td>0.098266</td>\n",
       "      <td>0.197246</td>\n",
       "      <td>0.071865</td>\n",
       "      <td>0.030400</td>\n",
       "      <td>0.022248</td>\n",
       "      <td>0.321026</td>\n",
       "    </tr>\n",
       "    <tr>\n",
       "      <th>std</th>\n",
       "      <td>2.560949e+14</td>\n",
       "      <td>7.129575e+04</td>\n",
       "      <td>23.110205</td>\n",
       "      <td>0.297675</td>\n",
       "      <td>0.397921</td>\n",
       "      <td>0.258265</td>\n",
       "      <td>0.171686</td>\n",
       "      <td>0.161543</td>\n",
       "      <td>0.466873</td>\n",
       "    </tr>\n",
       "    <tr>\n",
       "      <th>min</th>\n",
       "      <td>3.921784e+04</td>\n",
       "      <td>5.030230e+06</td>\n",
       "      <td>-1.000000</td>\n",
       "      <td>0.000000</td>\n",
       "      <td>0.000000</td>\n",
       "      <td>0.000000</td>\n",
       "      <td>0.000000</td>\n",
       "      <td>0.000000</td>\n",
       "      <td>0.000000</td>\n",
       "    </tr>\n",
       "    <tr>\n",
       "      <th>25%</th>\n",
       "      <td>4.172614e+12</td>\n",
       "      <td>5.640286e+06</td>\n",
       "      <td>18.000000</td>\n",
       "      <td>0.000000</td>\n",
       "      <td>0.000000</td>\n",
       "      <td>0.000000</td>\n",
       "      <td>0.000000</td>\n",
       "      <td>0.000000</td>\n",
       "      <td>0.000000</td>\n",
       "    </tr>\n",
       "    <tr>\n",
       "      <th>50%</th>\n",
       "      <td>3.173184e+13</td>\n",
       "      <td>5.680573e+06</td>\n",
       "      <td>37.000000</td>\n",
       "      <td>0.000000</td>\n",
       "      <td>0.000000</td>\n",
       "      <td>0.000000</td>\n",
       "      <td>0.000000</td>\n",
       "      <td>0.000000</td>\n",
       "      <td>0.000000</td>\n",
       "    </tr>\n",
       "    <tr>\n",
       "      <th>75%</th>\n",
       "      <td>9.439172e+13</td>\n",
       "      <td>5.725524e+06</td>\n",
       "      <td>55.000000</td>\n",
       "      <td>0.000000</td>\n",
       "      <td>0.000000</td>\n",
       "      <td>0.000000</td>\n",
       "      <td>0.000000</td>\n",
       "      <td>0.000000</td>\n",
       "      <td>1.000000</td>\n",
       "    </tr>\n",
       "    <tr>\n",
       "      <th>max</th>\n",
       "      <td>9.999816e+14</td>\n",
       "      <td>5.790484e+06</td>\n",
       "      <td>115.000000</td>\n",
       "      <td>1.000000</td>\n",
       "      <td>1.000000</td>\n",
       "      <td>1.000000</td>\n",
       "      <td>1.000000</td>\n",
       "      <td>4.000000</td>\n",
       "      <td>1.000000</td>\n",
       "    </tr>\n",
       "  </tbody>\n",
       "</table>\n",
       "</div>"
      ],
      "text/plain": [
       "          PatientId  AppointmentID            Age    Scholarship  \\\n",
       "count  1.105270e+05   1.105270e+05  110527.000000  110527.000000   \n",
       "mean   1.474963e+14   5.675305e+06      37.088874       0.098266   \n",
       "std    2.560949e+14   7.129575e+04      23.110205       0.297675   \n",
       "min    3.921784e+04   5.030230e+06      -1.000000       0.000000   \n",
       "25%    4.172614e+12   5.640286e+06      18.000000       0.000000   \n",
       "50%    3.173184e+13   5.680573e+06      37.000000       0.000000   \n",
       "75%    9.439172e+13   5.725524e+06      55.000000       0.000000   \n",
       "max    9.999816e+14   5.790484e+06     115.000000       1.000000   \n",
       "\n",
       "        Hipertension       Diabetes     Alcoholism        Handcap  \\\n",
       "count  110527.000000  110527.000000  110527.000000  110527.000000   \n",
       "mean        0.197246       0.071865       0.030400       0.022248   \n",
       "std         0.397921       0.258265       0.171686       0.161543   \n",
       "min         0.000000       0.000000       0.000000       0.000000   \n",
       "25%         0.000000       0.000000       0.000000       0.000000   \n",
       "50%         0.000000       0.000000       0.000000       0.000000   \n",
       "75%         0.000000       0.000000       0.000000       0.000000   \n",
       "max         1.000000       1.000000       1.000000       4.000000   \n",
       "\n",
       "        SMS_received  \n",
       "count  110527.000000  \n",
       "mean        0.321026  \n",
       "std         0.466873  \n",
       "min         0.000000  \n",
       "25%         0.000000  \n",
       "50%         0.000000  \n",
       "75%         1.000000  \n",
       "max         1.000000  "
      ]
     },
     "execution_count": 4,
     "metadata": {},
     "output_type": "execute_result"
    }
   ],
   "source": [
    "'''First look of data'''\n",
    "df.describe()"
   ]
  },
  {
   "cell_type": "code",
   "execution_count": 5,
   "metadata": {},
   "outputs": [
    {
     "name": "stdout",
     "output_type": "stream",
     "text": [
      "0\n"
     ]
    }
   ],
   "source": [
    "'''No duplicates present'''\n",
    "print(sum(df.duplicated()))\n",
    "df.drop_duplicates(inplace=True) #no duplicates found"
   ]
  },
  {
   "cell_type": "code",
   "execution_count": null,
   "metadata": {},
   "outputs": [],
   "source": []
  },
  {
   "cell_type": "markdown",
   "metadata": {},
   "source": [
    "> **Tip**: You should _not_ perform too many operations in each cell. Create cells freely to explore your data. One option that you can take with this project is to do a lot of explorations in an initial notebook. These don't have to be organized, but make sure you use enough comments to understand the purpose of each code cell. Then, after you're done with your analysis, create a duplicate notebook where you will trim the excess and organize your steps so that you have a flowing, cohesive report.\n",
    "\n",
    "> **Tip**: Make sure that you keep your reader informed on the steps that you are taking in your investigation. Follow every code cell, or every set of related code cells, with a markdown cell to describe to the reader what was found in the preceding cell(s). Try to make it so that the reader can then understand what they will be seeing in the following cell(s).\n",
    "\n",
    "### Data Cleaning \n",
    "\n",
    "\n",
    "<ul>\n",
    "<li> Convert Appointment day into date format.\n",
    "<li> Convert Scheduled day into date format.\n",
    "<li> Check anomalies in data entry with date, i.e ignore data where schedule day is after appointment day. \n",
    "<li> Rename No-show to more explanatory AppointmentAttendance and store numerical value, 1 for present and 0 for absence for ease of analysis. \n",
    "<li> Save day difference between appointment day and scheduled day for further EDA. \n",
    "</ul>"
   ]
  },
  {
   "cell_type": "code",
   "execution_count": 6,
   "metadata": {
    "collapsed": true
   },
   "outputs": [],
   "source": [
    "'''Convert days from string to date format'''\n",
    "\n",
    "df['AppointmentDay'] = pd.to_datetime(df['AppointmentDay'], format=\"%Y-%m-%d\").dt.date\n",
    "df['ScheduledDay'] = pd.to_datetime(df['ScheduledDay'], format=\"%Y-%m-%d\").dt.date\n"
   ]
  },
  {
   "cell_type": "code",
   "execution_count": 7,
   "metadata": {},
   "outputs": [
    {
     "data": {
      "text/plain": [
       "(array([27033, 55226, 64175, 71533, 72362]),)"
      ]
     },
     "execution_count": 7,
     "metadata": {},
     "output_type": "execute_result"
    }
   ],
   "source": [
    "'''check if any anomalies are present with date where appointment date is less than scheduled date'''\n",
    "np.where(df['AppointmentDay'] < df['ScheduledDay'])"
   ]
  },
  {
   "cell_type": "code",
   "execution_count": 8,
   "metadata": {},
   "outputs": [
    {
     "data": {
      "text/plain": [
       "PatientId         7.83927e+12\n",
       "AppointmentID         5679978\n",
       "Gender                      M\n",
       "ScheduledDay       2016-05-10\n",
       "AppointmentDay     2016-05-09\n",
       "Age                        38\n",
       "Neighbourhood     RESISTÊNCIA\n",
       "Scholarship                 0\n",
       "Hipertension                0\n",
       "Diabetes                    0\n",
       "Alcoholism                  0\n",
       "Handcap                     1\n",
       "SMS_received                0\n",
       "No-show                   Yes\n",
       "Name: 27033, dtype: object"
      ]
     },
     "execution_count": 8,
     "metadata": {},
     "output_type": "execute_result"
    }
   ],
   "source": [
    "'''confirm the above output'''\n",
    "df.loc[27033]"
   ]
  },
  {
   "cell_type": "code",
   "execution_count": 9,
   "metadata": {
    "collapsed": true
   },
   "outputs": [],
   "source": [
    "'''save difference of appointment date and scheduled date in a new column to filter upon'''\n",
    "df['DeltaAppointmentScheduled'] = (df['AppointmentDay'] - df['ScheduledDay']).dt.days"
   ]
  },
  {
   "cell_type": "code",
   "execution_count": 10,
   "metadata": {},
   "outputs": [],
   "source": [
    "'''filter all record where date delta is not equal or greater than 0'''\n",
    "df = df[df['DeltaAppointmentScheduled'] >= 0]"
   ]
  },
  {
   "cell_type": "code",
   "execution_count": 11,
   "metadata": {},
   "outputs": [
    {
     "name": "stdout",
     "output_type": "stream",
     "text": [
      "<class 'pandas.core.frame.DataFrame'>\n",
      "Int64Index: 110522 entries, 0 to 110526\n",
      "Data columns (total 15 columns):\n",
      "PatientId                    110522 non-null float64\n",
      "AppointmentID                110522 non-null int64\n",
      "Gender                       110522 non-null object\n",
      "ScheduledDay                 110522 non-null object\n",
      "AppointmentDay               110522 non-null object\n",
      "Age                          110522 non-null int64\n",
      "Neighbourhood                110522 non-null object\n",
      "Scholarship                  110522 non-null int64\n",
      "Hipertension                 110522 non-null int64\n",
      "Diabetes                     110522 non-null int64\n",
      "Alcoholism                   110522 non-null int64\n",
      "Handcap                      110522 non-null int64\n",
      "SMS_received                 110522 non-null int64\n",
      "No-show                      110522 non-null object\n",
      "DeltaAppointmentScheduled    110522 non-null int64\n",
      "dtypes: float64(1), int64(9), object(5)\n",
      "memory usage: 13.5+ MB\n"
     ]
    }
   ],
   "source": [
    "'''confirm the number of rows, it should be original raw number - number of anomalies detected in np.where'''\n",
    "df.info()"
   ]
  },
  {
   "cell_type": "code",
   "execution_count": 12,
   "metadata": {},
   "outputs": [],
   "source": [
    "'''rename No-Show to appointment attendance'''\n",
    "df.rename(columns = {'No-show' : 'AppointmentAttendance'} , inplace=True)"
   ]
  },
  {
   "cell_type": "code",
   "execution_count": 13,
   "metadata": {},
   "outputs": [],
   "source": [
    "'''replace NO with 1 and Yes with 0'''\n",
    "df['AppointmentAttendance'].replace(\"No\", 1, inplace=True)\n",
    "df['AppointmentAttendance'].replace(\"Yes\", 0, inplace=True)"
   ]
  },
  {
   "cell_type": "code",
   "execution_count": 14,
   "metadata": {},
   "outputs": [
    {
     "name": "stdout",
     "output_type": "stream",
     "text": [
      "<class 'pandas.core.frame.DataFrame'>\n",
      "Int64Index: 110522 entries, 0 to 110526\n",
      "Data columns (total 15 columns):\n",
      "PatientId                    110522 non-null float64\n",
      "AppointmentID                110522 non-null int64\n",
      "Gender                       110522 non-null object\n",
      "ScheduledDay                 110522 non-null object\n",
      "AppointmentDay               110522 non-null object\n",
      "Age                          110522 non-null int64\n",
      "Neighbourhood                110522 non-null object\n",
      "Scholarship                  110522 non-null int64\n",
      "Hipertension                 110522 non-null int64\n",
      "Diabetes                     110522 non-null int64\n",
      "Alcoholism                   110522 non-null int64\n",
      "Handcap                      110522 non-null int64\n",
      "SMS_received                 110522 non-null int64\n",
      "AppointmentAttendance        110522 non-null int64\n",
      "DeltaAppointmentScheduled    110522 non-null int64\n",
      "dtypes: float64(1), int64(10), object(4)\n",
      "memory usage: 13.5+ MB\n",
      "None\n"
     ]
    },
    {
     "data": {
      "text/html": [
       "<div>\n",
       "<table border=\"1\" class=\"dataframe\">\n",
       "  <thead>\n",
       "    <tr style=\"text-align: right;\">\n",
       "      <th></th>\n",
       "      <th>PatientId</th>\n",
       "      <th>AppointmentID</th>\n",
       "      <th>Gender</th>\n",
       "      <th>ScheduledDay</th>\n",
       "      <th>AppointmentDay</th>\n",
       "      <th>Age</th>\n",
       "      <th>Neighbourhood</th>\n",
       "      <th>Scholarship</th>\n",
       "      <th>Hipertension</th>\n",
       "      <th>Diabetes</th>\n",
       "      <th>Alcoholism</th>\n",
       "      <th>Handcap</th>\n",
       "      <th>SMS_received</th>\n",
       "      <th>AppointmentAttendance</th>\n",
       "      <th>DeltaAppointmentScheduled</th>\n",
       "    </tr>\n",
       "  </thead>\n",
       "  <tbody>\n",
       "    <tr>\n",
       "      <th>0</th>\n",
       "      <td>2.987250e+13</td>\n",
       "      <td>5642903</td>\n",
       "      <td>F</td>\n",
       "      <td>2016-04-29</td>\n",
       "      <td>2016-04-29</td>\n",
       "      <td>62</td>\n",
       "      <td>JARDIM DA PENHA</td>\n",
       "      <td>0</td>\n",
       "      <td>1</td>\n",
       "      <td>0</td>\n",
       "      <td>0</td>\n",
       "      <td>0</td>\n",
       "      <td>0</td>\n",
       "      <td>1</td>\n",
       "      <td>0</td>\n",
       "    </tr>\n",
       "  </tbody>\n",
       "</table>\n",
       "</div>"
      ],
      "text/plain": [
       "      PatientId  AppointmentID Gender ScheduledDay AppointmentDay  Age  \\\n",
       "0  2.987250e+13        5642903      F   2016-04-29     2016-04-29   62   \n",
       "\n",
       "     Neighbourhood  Scholarship  Hipertension  Diabetes  Alcoholism  Handcap  \\\n",
       "0  JARDIM DA PENHA            0             1         0           0        0   \n",
       "\n",
       "   SMS_received  AppointmentAttendance  DeltaAppointmentScheduled  \n",
       "0             0                      1                          0  "
      ]
     },
     "execution_count": 14,
     "metadata": {},
     "output_type": "execute_result"
    }
   ],
   "source": [
    "'''have a look at data again'''\n",
    "print(df.info())\n",
    "df.head(1)"
   ]
  },
  {
   "cell_type": "code",
   "execution_count": 15,
   "metadata": {},
   "outputs": [
    {
     "data": {
      "text/html": [
       "<div>\n",
       "<table border=\"1\" class=\"dataframe\">\n",
       "  <thead>\n",
       "    <tr style=\"text-align: right;\">\n",
       "      <th></th>\n",
       "      <th>PatientId</th>\n",
       "      <th>AppointmentID</th>\n",
       "      <th>Age</th>\n",
       "      <th>Scholarship</th>\n",
       "      <th>Hipertension</th>\n",
       "      <th>Diabetes</th>\n",
       "      <th>Alcoholism</th>\n",
       "      <th>Handcap</th>\n",
       "      <th>SMS_received</th>\n",
       "      <th>AppointmentAttendance</th>\n",
       "      <th>DeltaAppointmentScheduled</th>\n",
       "    </tr>\n",
       "  </thead>\n",
       "  <tbody>\n",
       "    <tr>\n",
       "      <th>count</th>\n",
       "      <td>1.105220e+05</td>\n",
       "      <td>1.105220e+05</td>\n",
       "      <td>110522.000000</td>\n",
       "      <td>110522.000000</td>\n",
       "      <td>110522.000000</td>\n",
       "      <td>110522.000000</td>\n",
       "      <td>110522.000000</td>\n",
       "      <td>110522.000000</td>\n",
       "      <td>110522.000000</td>\n",
       "      <td>110522.000000</td>\n",
       "      <td>110522.000000</td>\n",
       "    </tr>\n",
       "    <tr>\n",
       "      <th>mean</th>\n",
       "      <td>1.474935e+14</td>\n",
       "      <td>5.675305e+06</td>\n",
       "      <td>37.089041</td>\n",
       "      <td>0.098270</td>\n",
       "      <td>0.197255</td>\n",
       "      <td>0.071868</td>\n",
       "      <td>0.030401</td>\n",
       "      <td>0.022231</td>\n",
       "      <td>0.321040</td>\n",
       "      <td>0.798104</td>\n",
       "      <td>10.184253</td>\n",
       "    </tr>\n",
       "    <tr>\n",
       "      <th>std</th>\n",
       "      <td>2.560866e+14</td>\n",
       "      <td>7.129722e+04</td>\n",
       "      <td>23.110064</td>\n",
       "      <td>0.297681</td>\n",
       "      <td>0.397928</td>\n",
       "      <td>0.258270</td>\n",
       "      <td>0.171689</td>\n",
       "      <td>0.161493</td>\n",
       "      <td>0.466878</td>\n",
       "      <td>0.401417</td>\n",
       "      <td>15.255115</td>\n",
       "    </tr>\n",
       "    <tr>\n",
       "      <th>min</th>\n",
       "      <td>3.921784e+04</td>\n",
       "      <td>5.030230e+06</td>\n",
       "      <td>-1.000000</td>\n",
       "      <td>0.000000</td>\n",
       "      <td>0.000000</td>\n",
       "      <td>0.000000</td>\n",
       "      <td>0.000000</td>\n",
       "      <td>0.000000</td>\n",
       "      <td>0.000000</td>\n",
       "      <td>0.000000</td>\n",
       "      <td>0.000000</td>\n",
       "    </tr>\n",
       "    <tr>\n",
       "      <th>25%</th>\n",
       "      <td>4.172536e+12</td>\n",
       "      <td>5.640284e+06</td>\n",
       "      <td>18.000000</td>\n",
       "      <td>0.000000</td>\n",
       "      <td>0.000000</td>\n",
       "      <td>0.000000</td>\n",
       "      <td>0.000000</td>\n",
       "      <td>0.000000</td>\n",
       "      <td>0.000000</td>\n",
       "      <td>1.000000</td>\n",
       "      <td>0.000000</td>\n",
       "    </tr>\n",
       "    <tr>\n",
       "      <th>50%</th>\n",
       "      <td>3.173700e+13</td>\n",
       "      <td>5.680574e+06</td>\n",
       "      <td>37.000000</td>\n",
       "      <td>0.000000</td>\n",
       "      <td>0.000000</td>\n",
       "      <td>0.000000</td>\n",
       "      <td>0.000000</td>\n",
       "      <td>0.000000</td>\n",
       "      <td>0.000000</td>\n",
       "      <td>1.000000</td>\n",
       "      <td>4.000000</td>\n",
       "    </tr>\n",
       "    <tr>\n",
       "      <th>75%</th>\n",
       "      <td>9.439277e+13</td>\n",
       "      <td>5.725525e+06</td>\n",
       "      <td>55.000000</td>\n",
       "      <td>0.000000</td>\n",
       "      <td>0.000000</td>\n",
       "      <td>0.000000</td>\n",
       "      <td>0.000000</td>\n",
       "      <td>0.000000</td>\n",
       "      <td>1.000000</td>\n",
       "      <td>1.000000</td>\n",
       "      <td>15.000000</td>\n",
       "    </tr>\n",
       "    <tr>\n",
       "      <th>max</th>\n",
       "      <td>9.999816e+14</td>\n",
       "      <td>5.790484e+06</td>\n",
       "      <td>115.000000</td>\n",
       "      <td>1.000000</td>\n",
       "      <td>1.000000</td>\n",
       "      <td>1.000000</td>\n",
       "      <td>1.000000</td>\n",
       "      <td>4.000000</td>\n",
       "      <td>1.000000</td>\n",
       "      <td>1.000000</td>\n",
       "      <td>179.000000</td>\n",
       "    </tr>\n",
       "  </tbody>\n",
       "</table>\n",
       "</div>"
      ],
      "text/plain": [
       "          PatientId  AppointmentID            Age    Scholarship  \\\n",
       "count  1.105220e+05   1.105220e+05  110522.000000  110522.000000   \n",
       "mean   1.474935e+14   5.675305e+06      37.089041       0.098270   \n",
       "std    2.560866e+14   7.129722e+04      23.110064       0.297681   \n",
       "min    3.921784e+04   5.030230e+06      -1.000000       0.000000   \n",
       "25%    4.172536e+12   5.640284e+06      18.000000       0.000000   \n",
       "50%    3.173700e+13   5.680574e+06      37.000000       0.000000   \n",
       "75%    9.439277e+13   5.725525e+06      55.000000       0.000000   \n",
       "max    9.999816e+14   5.790484e+06     115.000000       1.000000   \n",
       "\n",
       "        Hipertension       Diabetes     Alcoholism        Handcap  \\\n",
       "count  110522.000000  110522.000000  110522.000000  110522.000000   \n",
       "mean        0.197255       0.071868       0.030401       0.022231   \n",
       "std         0.397928       0.258270       0.171689       0.161493   \n",
       "min         0.000000       0.000000       0.000000       0.000000   \n",
       "25%         0.000000       0.000000       0.000000       0.000000   \n",
       "50%         0.000000       0.000000       0.000000       0.000000   \n",
       "75%         0.000000       0.000000       0.000000       0.000000   \n",
       "max         1.000000       1.000000       1.000000       4.000000   \n",
       "\n",
       "        SMS_received  AppointmentAttendance  DeltaAppointmentScheduled  \n",
       "count  110522.000000          110522.000000              110522.000000  \n",
       "mean        0.321040               0.798104                  10.184253  \n",
       "std         0.466878               0.401417                  15.255115  \n",
       "min         0.000000               0.000000                   0.000000  \n",
       "25%         0.000000               1.000000                   0.000000  \n",
       "50%         0.000000               1.000000                   4.000000  \n",
       "75%         1.000000               1.000000                  15.000000  \n",
       "max         1.000000               1.000000                 179.000000  "
      ]
     },
     "execution_count": 15,
     "metadata": {},
     "output_type": "execute_result"
    }
   ],
   "source": [
    "'''describe the data to see more details'''\n",
    "df.describe()"
   ]
  },
  {
   "cell_type": "markdown",
   "metadata": {},
   "source": [
    "<a id='eda'></a>\n",
    "## Exploratory Data Analysis\n",
    "\n",
    "> **Tip**: Now that you've trimmed and cleaned your data, you're ready to move on to exploration. Compute statistics and create visualizations with the goal of addressing the research questions that you posed in the Introduction section. It is recommended that you be systematic with your approach. Look at one variable at a time, and then follow it up by looking at relationships between variables.\n",
    "\n",
    "### Research Question 1 - What is the presence and abscence percent overall ?"
   ]
  },
  {
   "cell_type": "code",
   "execution_count": 16,
   "metadata": {},
   "outputs": [],
   "source": [
    "'''Taking mean calculating percent of all patients present for appointment overall'''\n",
    "present = df[\"AppointmentAttendance\"].mean()*100"
   ]
  },
  {
   "cell_type": "code",
   "execution_count": 17,
   "metadata": {},
   "outputs": [
    {
     "name": "stdout",
     "output_type": "stream",
     "text": [
      "No of patients present  79.81 %\n",
      "No of patients NOT present  20.19 %\n"
     ]
    }
   ],
   "source": [
    "'''Simple maths, the abscent percent will be 100 - present percent '''\n",
    "abscent = 100 - present\n",
    "\n",
    "\n",
    "print(\"No of patients present \", round(present,2) , \"%\")\n",
    "print(\"No of patients NOT present \", round(abscent,2) , \"%\")"
   ]
  },
  {
   "cell_type": "markdown",
   "metadata": {},
   "source": [
    "### Research Question 2 - Is there any impact of difference between ScheduledDay and  AppointmentDay on presence of patients?"
   ]
  },
  {
   "cell_type": "code",
   "execution_count": 18,
   "metadata": {},
   "outputs": [],
   "source": [
    "'''Filter all present and abscent data in different data frames to be used later for histogram'''\n",
    "\n",
    "df_present = df.query(\"AppointmentAttendance == 1\")\n",
    "df_not_present = df.query(\"AppointmentAttendance == 0\")"
   ]
  },
  {
   "cell_type": "code",
   "execution_count": 19,
   "metadata": {},
   "outputs": [
    {
     "name": "stdout",
     "output_type": "stream",
     "text": [
      "<class 'pandas.core.frame.DataFrame'>\n",
      "Int64Index: 88208 entries, 0 to 110526\n",
      "Data columns (total 15 columns):\n",
      "PatientId                    88208 non-null float64\n",
      "AppointmentID                88208 non-null int64\n",
      "Gender                       88208 non-null object\n",
      "ScheduledDay                 88208 non-null object\n",
      "AppointmentDay               88208 non-null object\n",
      "Age                          88208 non-null int64\n",
      "Neighbourhood                88208 non-null object\n",
      "Scholarship                  88208 non-null int64\n",
      "Hipertension                 88208 non-null int64\n",
      "Diabetes                     88208 non-null int64\n",
      "Alcoholism                   88208 non-null int64\n",
      "Handcap                      88208 non-null int64\n",
      "SMS_received                 88208 non-null int64\n",
      "AppointmentAttendance        88208 non-null int64\n",
      "DeltaAppointmentScheduled    88208 non-null int64\n",
      "dtypes: float64(1), int64(10), object(4)\n",
      "memory usage: 10.8+ MB\n"
     ]
    }
   ],
   "source": [
    "'''Check no of rows present in patients present data frame etc'''\n",
    "df_present.info()"
   ]
  },
  {
   "cell_type": "code",
   "execution_count": 20,
   "metadata": {},
   "outputs": [
    {
     "name": "stdout",
     "output_type": "stream",
     "text": [
      "<class 'pandas.core.frame.DataFrame'>\n",
      "Int64Index: 22314 entries, 6 to 110516\n",
      "Data columns (total 15 columns):\n",
      "PatientId                    22314 non-null float64\n",
      "AppointmentID                22314 non-null int64\n",
      "Gender                       22314 non-null object\n",
      "ScheduledDay                 22314 non-null object\n",
      "AppointmentDay               22314 non-null object\n",
      "Age                          22314 non-null int64\n",
      "Neighbourhood                22314 non-null object\n",
      "Scholarship                  22314 non-null int64\n",
      "Hipertension                 22314 non-null int64\n",
      "Diabetes                     22314 non-null int64\n",
      "Alcoholism                   22314 non-null int64\n",
      "Handcap                      22314 non-null int64\n",
      "SMS_received                 22314 non-null int64\n",
      "AppointmentAttendance        22314 non-null int64\n",
      "DeltaAppointmentScheduled    22314 non-null int64\n",
      "dtypes: float64(1), int64(10), object(4)\n",
      "memory usage: 2.7+ MB\n"
     ]
    }
   ],
   "source": [
    "'''check no of rows in not present data frame'''\n",
    "df_not_present.info()"
   ]
  },
  {
   "cell_type": "code",
   "execution_count": 21,
   "metadata": {
    "scrolled": true
   },
   "outputs": [
    {
     "data": {
      "text/plain": [
       "<matplotlib.axes._subplots.AxesSubplot at 0x7f8914efe4e0>"
      ]
     },
     "execution_count": 21,
     "metadata": {},
     "output_type": "execute_result"
    },
    {
     "data": {
      "image/png": "[encoded data removed]",
      "text/plain": [
       "<matplotlib.figure.Figure at 0x7f89148656d8>"
      ]
     },
     "metadata": {},
     "output_type": "display_data"
    }
   ],
   "source": [
    "'''Plot the frequency of delta of scheduled and appointment date to see the overall distribution, this makes it\n",
    "very clear that majority of data points is distributes till 100 days'''\n",
    "df.plot(x=\"AppointmentAttendance\", y= \"DeltaAppointmentScheduled\", kind=\"hist\", title=\"Distribution of Appointment attendance frequency vs Days delta of ScheduledDay and Appointment day\\n\")\n"
   ]
  },
  {
   "cell_type": "markdown",
   "metadata": {},
   "source": [
    "By looking at the above histogram we could see that the distrubution of attendance is right skewed. The less is difference between ScheduledDay and AppointmentDay the more is probability of patients to not miss the appointment."
   ]
  },
  {
   "cell_type": "code",
   "execution_count": 22,
   "metadata": {},
   "outputs": [
    {
     "data": {
      "image/png": "[encoded data removed]",
      "text/plain": [
       "<matplotlib.figure.Figure at 0x7f8915853ba8>"
      ]
     },
     "metadata": {},
     "output_type": "display_data"
    }
   ],
   "source": [
    "''' Plot distribution of percent of patients present in 100 days delta'''\n",
    "\n",
    "y = df.groupby('DeltaAppointmentScheduled')['AppointmentAttendance'].mean()[0:100]*100\n",
    "x = range(0, 100)\n",
    "plt.figure(figsize=(12,5))\n",
    "plt.scatter(x,y);\n",
    "plt.title(\"Percentage of Scheduled Appointments for 100 days\");\n",
    "plt.xlabel(\"Advance scheduled days\");\n",
    "plt.ylabel(\"Percent of Patients present\");"
   ]
  },
  {
   "cell_type": "markdown",
   "metadata": {},
   "source": [
    "In above scatter plot we could see that the correlation is negative, the data points are more dense and higher when\n",
    "advance scheduled date is less and tends to be more distributes and lower afterwards. The point to note here is, the\n",
    "density is higher in BIN 0-20 even when the actual data points is highest so it means the probability is also higher here\n",
    "along with percentage."
   ]
  },
  {
   "cell_type": "code",
   "execution_count": 23,
   "metadata": {},
   "outputs": [
    {
     "data": {
      "image/png": "[encoded data removed]",
      "text/plain": [
       "<matplotlib.figure.Figure at 0x7f8916b2ca58>"
      ]
     },
     "metadata": {},
     "output_type": "display_data"
    }
   ],
   "source": [
    "'''Plot histogram of patients present and anscent, each bin represents 1 weeks here'''\n",
    "plt.figure(figsize=(12,5))\n",
    "plt.hist(df_present['DeltaAppointmentScheduled'], bins=14, range=(0,100));\n",
    "plt.hist(df_not_present['DeltaAppointmentScheduled'], bins=14, range=(0,100));\n",
    "plt.legend(['Patients Present','Patients Missed']);\n",
    "plt.title('Distribution for 100 days');\n",
    "plt.xlabel('Days Scheduled in Advance')\n",
    "plt.ylabel('Appointments');"
   ]
  },
  {
   "cell_type": "markdown",
   "metadata": {},
   "source": [
    "In above histogram we could see the distribution of number of patients missed and patients present after taking appointment. we could see there is similar trend in both of the plot. Patients missing and patients present distribution \n",
    "both are right skewed."
   ]
  },
  {
   "cell_type": "code",
   "execution_count": 24,
   "metadata": {},
   "outputs": [
    {
     "name": "stdout",
     "output_type": "stream",
     "text": [
      "85.70797348865234\n",
      "68.12265431605844\n",
      "66.97741868655478\n",
      "65.81715210355988\n",
      "66.09625668449198\n",
      "66.45833333333333\n",
      "72.27272727272728\n",
      "68.23529411764706\n",
      "73.93939393939394\n",
      "81.0126582278481\n"
     ]
    }
   ],
   "source": [
    "'''Get percent of patients present if the difference of appointment and scheduled day is between different range '''\n",
    "\n",
    "print(df.query(\"DeltaAppointmentScheduled < 10 \")['AppointmentAttendance'].mean()*100)\n",
    "print(df.query(\"DeltaAppointmentScheduled < 20 and DeltaAppointmentScheduled > 10\")['AppointmentAttendance'].mean()*100)\n",
    "print(df.query(\"DeltaAppointmentScheduled < 30 and DeltaAppointmentScheduled > 20\")['AppointmentAttendance'].mean()*100)\n",
    "print(df.query(\"DeltaAppointmentScheduled < 40 and DeltaAppointmentScheduled > 30\")['AppointmentAttendance'].mean()*100)\n",
    "print(df.query(\"DeltaAppointmentScheduled < 50 and DeltaAppointmentScheduled > 40\")['AppointmentAttendance'].mean()*100)\n",
    "print(df.query(\"DeltaAppointmentScheduled < 60 and DeltaAppointmentScheduled > 50\")['AppointmentAttendance'].mean()*100)\n",
    "print(df.query(\"DeltaAppointmentScheduled < 70 and DeltaAppointmentScheduled > 60\")['AppointmentAttendance'].mean()*100)\n",
    "print(df.query(\"DeltaAppointmentScheduled < 80 and DeltaAppointmentScheduled > 70\")['AppointmentAttendance'].mean()*100)\n",
    "print(df.query(\"DeltaAppointmentScheduled < 90 and DeltaAppointmentScheduled > 80\")['AppointmentAttendance'].mean()*100)\n",
    "print(df.query(\"DeltaAppointmentScheduled < 100 and DeltaAppointmentScheduled > 90\")['AppointmentAttendance'].mean()*100)"
   ]
  },
  {
   "cell_type": "markdown",
   "metadata": {},
   "source": [
    "### Research Question 3  Is there any relation of presence of patients and any medical conditions (including alcoholism) ?"
   ]
  },
  {
   "cell_type": "code",
   "execution_count": 25,
   "metadata": {},
   "outputs": [
    {
     "name": "stdout",
     "output_type": "stream",
     "text": [
      "Percent of people with no medical conditions present is  79.08 %\n",
      "Percent of people with atleast 1 issue present is  82.14 %\n"
     ]
    }
   ],
   "source": [
    "'''Percent of patients present with no medical condition'''\n",
    "\n",
    "non_patients = df.query(\"Hipertension == 0 and Handcap == 0 and Diabetes == 0 and Alcoholism == 0\")['AppointmentAttendance'].mean()*100\n",
    "print(\"Percent of people with no medical conditions present is \", round(non_patients, 2), \"%\")\n",
    "\n",
    "patients = df.query(\"Hipertension == 1 or Handcap == 1 or Diabetes == 1 or Alcoholism == 1\")['AppointmentAttendance'].mean()*100\n",
    "print(\"Percent of people with atleast 1 issue present is \", round(patients, 2), \"%\")\n",
    "\n",
    "\n"
   ]
  },
  {
   "cell_type": "code",
   "execution_count": 26,
   "metadata": {},
   "outputs": [
    {
     "name": "stdout",
     "output_type": "stream",
     "text": [
      "Hipertension    16.904186\n",
      "Diabetes         6.408533\n",
      "Alcoholism       3.033970\n",
      "Handcap          2.021153\n",
      "dtype: float64\n",
      "Hipertension    20.439189\n",
      "Diabetes         7.383684\n",
      "Alcoholism       3.041674\n",
      "Handcap          2.274170\n",
      "dtype: float64\n"
     ]
    },
    {
     "data": {
      "text/plain": [
       "<matplotlib.legend.Legend at 0x7f8915cc6358>"
      ]
     },
     "execution_count": 26,
     "metadata": {},
     "output_type": "execute_result"
    },
    {
     "data": {
      "image/png": "[encoded data removed]",
      "text/plain": [
       "<matplotlib.figure.Figure at 0x7f8916a059e8>"
      ]
     },
     "metadata": {},
     "output_type": "display_data"
    }
   ],
   "source": [
    "'''represent appointment data medical condition wise'''\n",
    "present_means = df_present.mean()\n",
    "abcent_means = df_not_present.mean()\n",
    "\n",
    "import numpy as np\n",
    "plt.figure(figsize=(12,5))\n",
    "plt.title('Presence of Health Conditions in Attendance Rates')\n",
    "\n",
    "labels = present_means.index[4:8].tolist()\n",
    "\n",
    "location = np.arange(1,len(labels)+1) + .2\n",
    "\n",
    "yaxis_abcent = abcent_means[4:8]*100\n",
    "print(yaxis_abcent)\n",
    "yaxis_present = present_means[4:8]*100\n",
    "print(yaxis_present)\n",
    "plt.bar(location-.2,yaxis_abcent, width=.4, label='Missed Appointment', color='r')\n",
    "plt.bar(location+.2,yaxis_present, width=.4, label='Present Appointment', color='b')\n",
    "\n",
    "plt.xticks(location, labels)\n",
    "plt.ylabel('Percent of Patients with Condition')\n",
    "plt.xlabel('Medical conditions')\n",
    "plt.legend()\n"
   ]
  },
  {
   "cell_type": "markdown",
   "metadata": {},
   "source": [
    "We could see except Alcoholism in every other medical condition Patients missing is less than non missing audience.\n",
    "This means in an actual medical condition patients tends to not miss the appointment."
   ]
  },
  {
   "cell_type": "code",
   "execution_count": null,
   "metadata": {},
   "outputs": [],
   "source": []
  },
  {
   "cell_type": "code",
   "execution_count": null,
   "metadata": {},
   "outputs": [],
   "source": []
  },
  {
   "cell_type": "markdown",
   "metadata": {},
   "source": [
    "<a id='conclusions'></a>\n",
    "## Conclusions\n",
    "\n",
    "> **Tip**: Finally, summarize your findings and the results that have been performed. Make sure that you are clear with regards to the limitations of your exploration. If you haven't done any statistical tests, do not imply any statistical conclusions. And make sure you avoid implying causation from correlation!\n",
    "\n",
    "> **Tip**: Once you are satisfied with your work, you should save a copy of the report in HTML or PDF form via the **File** > **Download as** submenu. Before exporting your report, check over it to make sure that the flow of the report is complete. You should probably remove all of the \"Tip\" quotes like this one so that the presentation is as tidy as possible. Congratulations!"
   ]
  },
  {
   "cell_type": "markdown",
   "metadata": {},
   "source": [
    "### 1. 20 % (1 out of every 5 appointment) is a no-show appointment.\n",
    "\n",
    "No of patients present 79.81 %, No of patients NOT present  20.19 %\n",
    "\n",
    "After further investigation we also found that, Percent of people with no medical conditions present is  79.08 %, Percent of people with atleast 1 issue present is  82.14 %.\n",
    "\n"
   ]
  },
  {
   "cell_type": "markdown",
   "metadata": {
    "collapsed": true
   },
   "source": [
    "### 2. Patients are more likely to miss appointment if the gap between the scheduled date and appointment date is greater.\n",
    "\n",
    "The relation is cleary right skewed and represented in graph earlier. We found that the percent of people not missing the appointment is the gap between scheduled and appointment date is less than 10 is 85 %, which goes down to 60-70 % for every other interval. Some reasons could be: <br>\n",
    "\n",
    "1) Patients forgets their appointments if the gap is bigger.\n",
    "2) Patients might require medical attention ASAP and hence the schedule an appointment date nearby.\n"
   ]
  },
  {
   "cell_type": "markdown",
   "metadata": {},
   "source": [
    "### 3. Patients with at least 1 issue (alcoholism , hyper tension, diabetes , handcap) are more likely to report than patients with no issue.\n",
    "\n",
    "\n",
    "The presence percent of patients with any 1 issue is greater by 3 % than patients with no issue.Percent of people with no medical conditions present is  79.08 % and Percent of people with atleast 1 issue present is  82.14 %.\n",
    "Patients with Hypertension are 4 % more likely to not miss the appointment and patients of diabetes are 1 % more likely to not miss the appointment.\n"
   ]
  },
  {
   "cell_type": "markdown",
   "metadata": {
    "collapsed": true
   },
   "source": [
    "## Limitation and Scope of improvements"
   ]
  },
  {
   "cell_type": "markdown",
   "metadata": {},
   "source": [
    "### 1) No analysis is performed on various other data points, like impact of SMS on likelihood of No-Show. Impact of Neighbourhood and Age and gender on patients missing the appointments"
   ]
  },
  {
   "cell_type": "markdown",
   "metadata": {},
   "source": [
    "### 2) We could dig deeper in combination arithmetic by including various different parameters and check some correlation, example. The report of a particular Age group in any neighbourhood of a particular gender."
   ]
  },
  {
   "cell_type": "code",
   "execution_count": null,
   "metadata": {
    "collapsed": true
   },
   "outputs": [],
   "source": []
  }
 ],
 "metadata": {
  "anaconda-cloud": {},
  "kernelspec": {
   "display_name": "Python 3",
   "language": "python",
   "name": "python3"
  },
  "language_info": {
   "codemirror_mode": {
    "name": "ipython",
    "version": 3
   },
   "file_extension": ".py",
   "mimetype": "text/x-python",
   "name": "python",
   "nbconvert_exporter": "python",
   "pygments_lexer": "ipython3",
   "version": "3.5.2"
  }
 },
 "nbformat": 4,
 "nbformat_minor": 2
}
