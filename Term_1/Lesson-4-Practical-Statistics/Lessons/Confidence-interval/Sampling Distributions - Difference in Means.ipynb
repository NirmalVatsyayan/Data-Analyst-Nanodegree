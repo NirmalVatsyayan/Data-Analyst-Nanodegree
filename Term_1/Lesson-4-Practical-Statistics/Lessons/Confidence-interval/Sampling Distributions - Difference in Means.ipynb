{
 "cells": [
  {
   "cell_type": "markdown",
   "metadata": {},
   "source": [
    "### Confidence Interval - Difference In Means\n",
    "\n",
    "Here you will look through the example from the last video, but you will also go a couple of steps further into what might actually be going on with this data."
   ]
  },
  {
   "cell_type": "code",
   "execution_count": 2,
   "metadata": {},
   "outputs": [],
   "source": [
    "import pandas as pd\n",
    "import numpy as np\n",
    "import matplotlib.pyplot as plt\n",
    "\n",
    "%matplotlib inline\n",
    "np.random.seed(42)\n",
    "\n",
    "full_data = pd.read_csv('coffee_dataset.csv')\n",
    "sample_data = full_data.sample(200)"
   ]
  },
  {
   "cell_type": "markdown",
   "metadata": {},
   "source": [
    "`1.` For 10,000 iterations, bootstrap sample your sample data, compute the difference in the average heights for coffee and non-coffee drinkers.  Build a 99% confidence interval using your sampling distribution.  Use your interval to start answering the first quiz question below."
   ]
  },
  {
   "cell_type": "code",
   "execution_count": 12,
   "metadata": {},
   "outputs": [
    {
     "data": {
      "text/plain": [
       "(0.09927525647991417, 2.5201733083759601)"
      ]
     },
     "execution_count": 12,
     "metadata": {},
     "output_type": "execute_result"
    },
    {
     "data": {
      "image/png": "[encoded data removed]",
      "text/plain": [
       "<matplotlib.figure.Figure at 0x7f77600c9ac8>"
      ]
     },
     "metadata": {},
     "output_type": "display_data"
    }
   ],
   "source": [
    "sample_means = []\n",
    "\n",
    "for _ in range(10000):\n",
    "    boot_sample_data = sample_data.sample(200, replace=True)\n",
    "    coffee_drinkers = boot_sample_data[boot_sample_data['drinks_coffee'] == True].height.mean()\n",
    "    non_coffee_drinkers = boot_sample_data[boot_sample_data['drinks_coffee'] == False].height.mean()\n",
    "    sample_means.append(coffee_drinkers - non_coffee_drinkers)\n",
    "\n",
    "plt.hist(sample_means)    \n",
    "np.percentile(sample_means, .5) , np.percentile(sample_means, 99.5)    "
   ]
  },
  {
   "cell_type": "markdown",
   "metadata": {},
   "source": [
    "`2.` For 10,000 iterations, bootstrap sample your sample data, compute the difference in the average heights for those older than 21 and those younger than 21.  Build a 99% confidence interval using your sampling distribution.  Use your interval to finish answering the first quiz question below.  "
   ]
  },
  {
   "cell_type": "code",
   "execution_count": 13,
   "metadata": {},
   "outputs": [
    {
     "data": {
      "text/plain": [
       "(3.3862862824077413, 5.1364733157960458)"
      ]
     },
     "execution_count": 13,
     "metadata": {},
     "output_type": "execute_result"
    },
    {
     "data": {
      "image/png": "[encoded data removed]",
      "text/plain": [
       "<matplotlib.figure.Figure at 0x7f775dfc1588>"
      ]
     },
     "metadata": {},
     "output_type": "display_data"
    }
   ],
   "source": [
    "sample_data.head()\n",
    "sample_means = []\n",
    "\n",
    "for _ in range(10000):\n",
    "    boot_sample_data = sample_data.sample(200, replace=True)\n",
    "    less_than_21 = boot_sample_data[boot_sample_data['age'] == \"<21\"].height.mean()\n",
    "    greater_than_21 = boot_sample_data[boot_sample_data['age'] == \">=21\"].height.mean()\n",
    "    sample_means.append(greater_than_21 - less_than_21)\n",
    "\n",
    "plt.hist(sample_means)\n",
    "np.percentile(sample_means, .5) , np.percentile(sample_means, 99.5)    \n",
    "\n"
   ]
  },
  {
   "cell_type": "markdown",
   "metadata": {},
   "source": [
    "`3.` For 10,000 iterations bootstrap your sample data, compute the difference in the average height for coffee drinkers and the average height for non-coffee drinkers for individuals under 21 years old.  Using your sampling distribution, build a 95% confidence interval.  Use your interval to start answering question 2 below."
   ]
  },
  {
   "cell_type": "code",
   "execution_count": 16,
   "metadata": {},
   "outputs": [
    {
     "data": {
      "text/plain": [
       "(-2.6207554352667368, -1.0886652034642457)"
      ]
     },
     "execution_count": 16,
     "metadata": {},
     "output_type": "execute_result"
    },
    {
     "data": {
      "image/png": "[encoded data removed]",
      "text/plain": [
       "<matplotlib.figure.Figure at 0x7f775de2afd0>"
      ]
     },
     "metadata": {},
     "output_type": "display_data"
    }
   ],
   "source": [
    "sample_means = []\n",
    "\n",
    "for _ in range(10000):\n",
    "    boot_sample_data = sample_data.sample(200, replace=True)\n",
    "    coffee_drinkers = boot_sample_data[(boot_sample_data['drinks_coffee'] == True) & (boot_sample_data['age'] == '<21')].height.mean()\n",
    "    non_coffee_drinkers = boot_sample_data[(boot_sample_data['drinks_coffee'] == False) & (boot_sample_data['age'] == '<21')].height.mean()\n",
    "    sample_means.append(coffee_drinkers - non_coffee_drinkers)\n",
    "\n",
    "plt.hist(sample_means)    \n",
    "np.percentile(sample_means, 2.5) , np.percentile(sample_means, 97.5)    "
   ]
  },
  {
   "cell_type": "markdown",
   "metadata": {},
   "source": [
    "`4.` For 10,000 iterations bootstrap your sample data, compute the difference in the average height for coffee drinkers and the average height for non-coffee drinkers for individuals under 21 years old.  Using your sampling distribution, build a 95% confidence interval. Use your interval to finish answering the second quiz question below. As well as the following questions. "
   ]
  },
  {
   "cell_type": "code",
   "execution_count": null,
   "metadata": {
    "collapsed": true
   },
   "outputs": [],
   "source": []
  }
 ],
 "metadata": {
  "kernelspec": {
   "display_name": "Python 3",
   "language": "python",
   "name": "python3"
  },
  "language_info": {
   "codemirror_mode": {
    "name": "ipython",
    "version": 3
   },
   "file_extension": ".py",
   "mimetype": "text/x-python",
   "name": "python",
   "nbconvert_exporter": "python",
   "pygments_lexer": "ipython3",
   "version": "3.6.3"
  }
 },
 "nbformat": 4,
 "nbformat_minor": 2
}
